{
 "cells": [
  {
   "cell_type": "markdown",
   "metadata": {},
   "source": [
    "## Accessing SQLite Databases Using Python and Pandas\n",
    "Objectives\n",
    "* Access data stored in SQLite using Python.\n",
    "* Use the sqlite3 module to interact with a SQL database.\n",
    "* Use the pandas module to interact with a SQL database."
   ]
  },
  {
   "cell_type": "markdown",
   "metadata": {},
   "source": [
    "## Python and SQL\n",
    "### The `sqlite3` module"
   ]
  },
  {
   "cell_type": "code",
   "execution_count": null,
   "metadata": {},
   "outputs": [],
   "source": [
    "import sqlite3\n",
    "\n",
    "# Create a SQL connection to our SQLite database\n",
    "con = sqlite3.connect(\"doaj-article-sample.db\")\n",
    "\n",
    "cur = con.cursor()\n",
    "\n",
    "# The result of a \"cursor.execute\" can be iterated over by row\n",
    "for row in cur.execute('SELECT * FROM publishers'):\n",
    "    print(row)\n",
    "\n",
    "# Be sure to close the connection.\n",
    "con.close()"
   ]
  },
  {
   "cell_type": "markdown",
   "metadata": {},
   "source": [
    "### Queries"
   ]
  },
  {
   "cell_type": "code",
   "execution_count": null,
   "metadata": {},
   "outputs": [],
   "source": [
    "# Create a SQL connection to our SQLite database\n",
    "con = sqlite3.connect(\"doaj-article-sample.db\")\n",
    "\n",
    "cur = con.cursor()"
   ]
  },
  {
   "cell_type": "code",
   "execution_count": null,
   "metadata": {},
   "outputs": [],
   "source": [
    "# Get all table names\n",
    "query_str_all_tables = ' '.join([\n",
    "    'SELECT name',\n",
    "    'FROM sqlite_master',\n",
    "    'WHERE type = \"table\"',\n",
    "])\n",
    "print(query_str_all_tables)\n",
    "\n",
    "cur.execute(query_str_all_tables)\n",
    "cur.fetchall()"
   ]
  },
  {
   "cell_type": "code",
   "execution_count": null,
   "metadata": {},
   "outputs": [],
   "source": [
    "# Get information about the journals table\n",
    "cur.execute('PRAGMA table_info(journals)')\n",
    "cur.fetchall()"
   ]
  },
  {
   "cell_type": "code",
   "execution_count": null,
   "metadata": {},
   "outputs": [],
   "source": [
    "# Get the top-10 journals with the highest average citation count\n",
    "query_str = ' '.join([\n",
    "    'SELECT ISSNs, AVG(Citation_Count)',\n",
    "    'FROM articles',\n",
    "    'GROUP BY ISSNs',\n",
    "    'ORDER BY AVG(Citation_Count) DESC'\n",
    "])\n",
    "print(query_str)\n",
    "\n",
    "cur.execute(query_str)\n",
    "cur.fetchall()[:10]"
   ]
  },
  {
   "cell_type": "code",
   "execution_count": null,
   "metadata": {},
   "outputs": [],
   "source": [
    "# Get all records where the Subject contains \"Crystal Structure\"\n",
    "query_str = ' '.join([\n",
    "    'SELECT Subjects',\n",
    "    'FROM articles',\n",
    "    'WHERE Subjects LIKE \"%Crystal Structure%\"'\n",
    "])\n",
    "print(query_str)\n",
    "\n",
    "cur.execute(query_str)\n",
    "results = cur.fetchall()\n",
    "\n",
    "print(len(results), 'records.')\n",
    "results[-5:]"
   ]
  },
  {
   "cell_type": "code",
   "execution_count": null,
   "metadata": {},
   "outputs": [],
   "source": [
    "# Return only the first result of a query\n",
    "query_str = ' '.join([\n",
    "    'SELECT journals.Journal_Title, publishers.Publisher, COUNT(*)',\n",
    "    'FROM articles',\n",
    "    'JOIN journals',\n",
    "    'ON articles.ISSNs = journals.ISSNs',\n",
    "    'JOIN publishers',\n",
    "    'ON publishers.id = journals.PublisherId',\n",
    "    'GROUP BY Journal_Title',\n",
    "    'ORDER BY COUNT(*) DESC'\n",
    "])\n",
    "print(query_str)\n",
    "\n",
    "cur.execute(query_str)\n",
    "cur.fetchone()"
   ]
  },
  {
   "cell_type": "code",
   "execution_count": null,
   "metadata": {},
   "outputs": [],
   "source": [
    "# Be sure to close the connection.\n",
    "con.close()"
   ]
  },
  {
   "cell_type": "markdown",
   "metadata": {},
   "source": [
    "## Accessing data stored in SQLite using Python and Pandas"
   ]
  },
  {
   "cell_type": "code",
   "execution_count": null,
   "metadata": {},
   "outputs": [],
   "source": [
    "import pandas as pd\n",
    "\n",
    "# Read sqlite query results into a pandas DataFrame\n",
    "con = sqlite3.connect(\"doaj-article-sample.db\")\n",
    "df = pd.read_sql_query(\"SELECT * FROM articles\", con)\n",
    "con.close()\n",
    "\n",
    "# Verify that result of SQL query is stored in the dataframe\n",
    "print(len(df), 'records.')\n",
    "df.tail()"
   ]
  },
  {
   "cell_type": "markdown",
   "metadata": {},
   "source": [
    "## Storing data: Create new tables using Pandas"
   ]
  },
  {
   "cell_type": "code",
   "execution_count": null,
   "metadata": {},
   "outputs": [],
   "source": [
    "con = sqlite3.connect(\"doaj-article-sample.db\")\n",
    "\n",
    "# Load the data into a DataFrame\n",
    "articles_df = pd.read_sql_query(\"SELECT * FROM articles\", con)\n",
    "\n",
    "# Select only articles published in November\n",
    "articles_nov = articles_df[articles_df['Month'] == 11]\n",
    "print(len(articles_nov), 'records in November.')\n",
    "\n",
    "# Write the new DataFrame to a new SQLite table\n",
    "articles_nov.to_sql(\"articles_nov\", con, if_exists=\"replace\")\n",
    "\n",
    "# Get all table names with Pandas\n",
    "tables = pd.read_sql_query(query_str_all_tables, con)\n",
    "\n",
    "con.close()\n",
    "tables"
   ]
  },
  {
   "cell_type": "code",
   "execution_count": null,
   "metadata": {},
   "outputs": [],
   "source": []
  }
 ],
 "metadata": {
  "anaconda-cloud": {},
  "kernelspec": {
   "display_name": "Python 3 (ipykernel)",
   "language": "python",
   "name": "python3"
  },
  "language_info": {
   "codemirror_mode": {
    "name": "ipython",
    "version": 3
   },
   "file_extension": ".py",
   "mimetype": "text/x-python",
   "name": "python",
   "nbconvert_exporter": "python",
   "pygments_lexer": "ipython3",
   "version": "3.10.5"
  }
 },
 "nbformat": 4,
 "nbformat_minor": 4
}
